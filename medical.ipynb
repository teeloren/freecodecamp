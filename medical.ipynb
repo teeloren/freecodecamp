{
  "nbformat": 4,
  "nbformat_minor": 0,
  "metadata": {
    "colab": {
      "name": "Untitled0.ipynb",
      "provenance": [],
      "collapsed_sections": [],
      "authorship_tag": "ABX9TyPcqdLUOTKAQiDWUMXkjoPl",
      "include_colab_link": true
    },
    "kernelspec": {
      "name": "python3",
      "display_name": "Python 3"
    },
    "language_info": {
      "name": "python"
    }
  },
  "cells": [
    {
      "cell_type": "markdown",
      "metadata": {
        "id": "view-in-github",
        "colab_type": "text"
      },
      "source": [
        "<a href=\"https://colab.research.google.com/github/teeloren/freecodecamp/blob/main/medical.ipynb\" target=\"_parent\"><img src=\"https://colab.research.google.com/assets/colab-badge.svg\" alt=\"Open In Colab\"/></a>"
      ]
    },
    {
      "cell_type": "code",
      "source": [
        "import pandas as pd\n",
        "import seaborn as sns\n",
        "import matplotlib.pyplot as plt\n",
        "import numpy as np"
      ],
      "metadata": {
        "id": "Ns32-ef5Rad7"
      },
      "execution_count": 12,
      "outputs": []
    },
    {
      "cell_type": "code",
      "source": [
        "# Import data\n",
        "df = pd.read_csv('https://raw.githubusercontent.com/teeloren/freecodecamp/main/medical_examination.csv')\n",
        "df.columns\n",
        "# Index(['id', 'age', 'gender', 'height', 'weight', 'ap_hi', 'ap_lo',\n",
        "#        'cholesterol', 'gluc', 'smoke', 'alco', 'active', 'cardio'],\n",
        "#       dtype='object')"
      ],
      "metadata": {
        "id": "XC5i4_fBRgA5"
      },
      "execution_count": null,
      "outputs": []
    },
    {
      "cell_type": "code",
      "source": [
        "# Add 'overweight' column\n",
        "df['overweight'] = None"
      ],
      "metadata": {
        "id": "7OkRDwFhSI-C"
      },
      "execution_count": null,
      "outputs": []
    },
    {
      "cell_type": "code",
      "execution_count": 10,
      "metadata": {
        "id": "WqpHD3SeGEsi"
      },
      "outputs": [],
      "source": [
        "\n",
        "\n",
        "\n",
        "\n",
        "\n",
        "# Normalize data by making 0 always good and 1 always bad. If the value of 'cholesterol' or 'gluc' is 1, make the value 0. If the value is more than 1, make the value 1.\n",
        "\n",
        "\n",
        "# Draw Categorical Plot\n",
        "def draw_cat_plot():\n",
        "    # Create DataFrame for cat plot using `pd.melt` using just the values from 'cholesterol', 'gluc', 'smoke', 'alco', 'active', and 'overweight'.\n",
        "    df_cat = None\n",
        "\n",
        "\n",
        "    # Group and reformat the data to split it by 'cardio'. Show the counts of each feature. You will have to rename one of the columns for the catplot to work correctly.\n",
        "    df_cat = None\n",
        "\n",
        "    # Draw the catplot with 'sns.catplot()'\n",
        "\n",
        "\n",
        "\n",
        "    # Do not modify the next two lines\n",
        "    fig.savefig('catplot.png')\n",
        "    return fig\n",
        "\n",
        "\n",
        "# Draw Heat Map\n",
        "def draw_heat_map():\n",
        "    # Clean the data\n",
        "    df_heat = None\n",
        "\n",
        "    # Calculate the correlation matrix\n",
        "    corr = None\n",
        "\n",
        "    # Generate a mask for the upper triangle\n",
        "    mask = None\n",
        "\n",
        "\n",
        "\n",
        "    # Set up the matplotlib figure\n",
        "    fig, ax = None\n",
        "\n",
        "    # Draw the heatmap with 'sns.heatmap()'\n",
        "\n",
        "\n",
        "\n",
        "    # Do not modify the next two lines\n",
        "    fig.savefig('heatmap.png')\n",
        "    return fig\n",
        "\n"
      ]
    }
  ]
}