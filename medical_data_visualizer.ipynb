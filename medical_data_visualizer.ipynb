{
  "nbformat": 4,
  "nbformat_minor": 0,
  "metadata": {
    "colab": {
      "name": "medical_data_visualizer.ipynb",
      "provenance": [],
      "collapsed_sections": [],
      "authorship_tag": "ABX9TyPBe3GfjGEjm/BXNZZq0T4H",
      "include_colab_link": true
    },
    "kernelspec": {
      "name": "python3",
      "display_name": "Python 3"
    },
    "language_info": {
      "name": "python"
    }
  },
  "cells": [
    {
      "cell_type": "markdown",
      "metadata": {
        "id": "view-in-github",
        "colab_type": "text"
      },
      "source": [
        "<a href=\"https://colab.research.google.com/github/teeloren/freecodecamp/blob/main/medical_data_visualizer.ipynb\" target=\"_parent\"><img src=\"https://colab.research.google.com/assets/colab-badge.svg\" alt=\"Open In Colab\"/></a>"
      ]
    },
    {
      "cell_type": "code",
      "execution_count": 16,
      "metadata": {
        "colab": {
          "base_uri": "https://localhost:8080/"
        },
        "id": "Iyyz7VYEpFBw",
        "outputId": "ee24e8f5-9028-43b1-c288-f3e77aeac068"
      },
      "outputs": [
        {
          "output_type": "execute_result",
          "data": {
            "text/plain": [
              "<bound method DataFrame.info of           id    age  gender  height  weight  ap_hi  ap_lo  cholesterol  gluc  \\\n",
              "0          0  18393       2     168    62.0    110     80            0     0   \n",
              "1          1  20228       1     156    85.0    140     90            1     0   \n",
              "2          2  18857       1     165    64.0    130     70            1     0   \n",
              "3          3  17623       2     169    82.0    150    100            0     0   \n",
              "4          4  17474       1     156    56.0    100     60            0     0   \n",
              "...      ...    ...     ...     ...     ...    ...    ...          ...   ...   \n",
              "69995  99993  19240       2     168    76.0    120     80            0     0   \n",
              "69996  99995  22601       1     158   126.0    140     90            1     1   \n",
              "69997  99996  19066       2     183   105.0    180     90            1     0   \n",
              "69998  99998  22431       1     163    72.0    135     80            0     1   \n",
              "69999  99999  20540       1     170    72.0    120     80            1     0   \n",
              "\n",
              "       smoke  alco  active  cardio  overweight  \n",
              "0          0     0       1       0           0  \n",
              "1          0     0       1       1           1  \n",
              "2          0     0       0       1           0  \n",
              "3          0     0       1       1           1  \n",
              "4          0     0       0       0           0  \n",
              "...      ...   ...     ...     ...         ...  \n",
              "69995      1     0       1       0           1  \n",
              "69996      0     0       1       1           1  \n",
              "69997      0     1       0       1           1  \n",
              "69998      0     0       0       1           1  \n",
              "69999      0     0       1       0           0  \n",
              "\n",
              "[70000 rows x 14 columns]>"
            ]
          },
          "metadata": {},
          "execution_count": 16
        }
      ],
      "source": [
        "import pandas as pd\n",
        "import seaborn as sns\n",
        "import matplotlib.pyplot as plt\n",
        "import numpy as np\n",
        "\n",
        "# Import data\n",
        "# Import data\n",
        "df = pd.read_csv(\n",
        "    'https://raw.githubusercontent.com/teeloren/freecodecamp/main/medical_examination.csv')\n",
        "\n",
        "# Index(['id', 'age', 'gender', 'height', 'weight', 'ap_hi', 'ap_lo',\n",
        "#        'cholesterol', 'gluc', 'smoke', 'alco', 'active', 'cardio'],\n",
        "#       dtype='object')\n",
        "\n",
        "df['overweight'] = df['weight']/(df['height']**2)*10000\n",
        "over = df['overweight'] > 25\n",
        "df.loc[over, 'overweight'] = 1\n",
        "\n",
        "under = df['overweight'] != 1\n",
        "df.loc[under, 'overweight'] = 0\n",
        "\n",
        "df.overweight = df.overweight.astype('int64')\n",
        "\n",
        "over_ch = df['cholesterol'] == 1\n",
        "df.loc[over_ch, 'cholesterol'] = 0\n",
        "\n",
        "under_ch = df['cholesterol'] != 0\n",
        "df.loc[under_ch, 'cholesterol'] = 1\n",
        "\n",
        "over_gluc = df['gluc'] == 1\n",
        "df.loc[over_gluc, 'gluc'] = 0\n",
        "\n",
        "under_gluc = df['gluc'] != 0\n",
        "df.loc[under_gluc, 'gluc'] = 1\n",
        "\n",
        "\n",
        "\n",
        "cat_melt2 = pd.melt(df, id_vars='cardio', value_vars=[\n",
        "    'cholesterol', 'gluc', 'smoke', 'alco', 'active', 'overweight'])\n",
        "\n",
        "\n",
        "df.info\n",
        "\n"
      ]
    },
    {
      "cell_type": "code",
      "source": [
        "summary = {\n",
        "    \"Feature\": ['Age','Height','Weight','Gender','Systolic blood pressure','Diastolic blood pressure','Cholesterol','Glucose','Smoking','Alcohol intake','Physical activity','Presence or absence of cardiovascular disease'],\n",
        "    \"Variable Type\": ['Objective Feature','Objective Feature','Objective Feature','Objective Feature','Examination Feature','Examination Feature','Examination Feature','Examination Feature','Subjective Feature','Subjective Feature','Subjective Feature','Target Variable'],\n",
        "    \"Variable\": ['age','height','weight','gender','ap_hi','ap_lo','cholesterol','gluc','smoke','alco','active','cardio'],\n",
        "    \"Value Type\": ['int (days)','int (cm)','float (kg)','categorical code','int','int','1: normal, 2: above normal, 3: well above normal','1: normal, 2: above normal, 3: well above normal','binary','binary','binary','binary']\n",
        "}\n",
        "df_summary = pd.DataFrame(summary)\n",
        "df_summary\n",
        "\n"
      ],
      "metadata": {
        "colab": {
          "base_uri": "https://localhost:8080/",
          "height": 426
        },
        "id": "FPmV4mlDIncf",
        "outputId": "622d7f90-919d-43dc-dd91-6a889af6395f"
      },
      "execution_count": 24,
      "outputs": [
        {
          "output_type": "execute_result",
          "data": {
            "text/plain": [
              "                                          Feature        Variable Type  \\\n",
              "0                                             Age    Objective Feature   \n",
              "1                                          Height    Objective Feature   \n",
              "2                                          Weight    Objective Feature   \n",
              "3                                          Gender    Objective Feature   \n",
              "4                         Systolic blood pressure  Examination Feature   \n",
              "5                        Diastolic blood pressure  Examination Feature   \n",
              "6                                     Cholesterol  Examination Feature   \n",
              "7                                         Glucose  Examination Feature   \n",
              "8                                         Smoking   Subjective Feature   \n",
              "9                                  Alcohol intake   Subjective Feature   \n",
              "10                              Physical activity   Subjective Feature   \n",
              "11  Presence or absence of cardiovascular disease      Target Variable   \n",
              "\n",
              "       Variable                                        Value Type  \n",
              "0           age                                        int (days)  \n",
              "1        height                                          int (cm)  \n",
              "2        weight                                        float (kg)  \n",
              "3        gender                                  categorical code  \n",
              "4         ap_hi                                               int  \n",
              "5         ap_lo                                               int  \n",
              "6   cholesterol  1: normal, 2: above normal, 3: well above normal  \n",
              "7          gluc  1: normal, 2: above normal, 3: well above normal  \n",
              "8         smoke                                            binary  \n",
              "9          alco                                            binary  \n",
              "10       active                                            binary  \n",
              "11       cardio                                            binary  "
            ],
            "text/html": [
              "\n",
              "  <div id=\"df-bc6b63da-434c-4b14-8ae3-2670117cde72\">\n",
              "    <div class=\"colab-df-container\">\n",
              "      <div>\n",
              "<style scoped>\n",
              "    .dataframe tbody tr th:only-of-type {\n",
              "        vertical-align: middle;\n",
              "    }\n",
              "\n",
              "    .dataframe tbody tr th {\n",
              "        vertical-align: top;\n",
              "    }\n",
              "\n",
              "    .dataframe thead th {\n",
              "        text-align: right;\n",
              "    }\n",
              "</style>\n",
              "<table border=\"1\" class=\"dataframe\">\n",
              "  <thead>\n",
              "    <tr style=\"text-align: right;\">\n",
              "      <th></th>\n",
              "      <th>Feature</th>\n",
              "      <th>Variable Type</th>\n",
              "      <th>Variable</th>\n",
              "      <th>Value Type</th>\n",
              "    </tr>\n",
              "  </thead>\n",
              "  <tbody>\n",
              "    <tr>\n",
              "      <th>0</th>\n",
              "      <td>Age</td>\n",
              "      <td>Objective Feature</td>\n",
              "      <td>age</td>\n",
              "      <td>int (days)</td>\n",
              "    </tr>\n",
              "    <tr>\n",
              "      <th>1</th>\n",
              "      <td>Height</td>\n",
              "      <td>Objective Feature</td>\n",
              "      <td>height</td>\n",
              "      <td>int (cm)</td>\n",
              "    </tr>\n",
              "    <tr>\n",
              "      <th>2</th>\n",
              "      <td>Weight</td>\n",
              "      <td>Objective Feature</td>\n",
              "      <td>weight</td>\n",
              "      <td>float (kg)</td>\n",
              "    </tr>\n",
              "    <tr>\n",
              "      <th>3</th>\n",
              "      <td>Gender</td>\n",
              "      <td>Objective Feature</td>\n",
              "      <td>gender</td>\n",
              "      <td>categorical code</td>\n",
              "    </tr>\n",
              "    <tr>\n",
              "      <th>4</th>\n",
              "      <td>Systolic blood pressure</td>\n",
              "      <td>Examination Feature</td>\n",
              "      <td>ap_hi</td>\n",
              "      <td>int</td>\n",
              "    </tr>\n",
              "    <tr>\n",
              "      <th>5</th>\n",
              "      <td>Diastolic blood pressure</td>\n",
              "      <td>Examination Feature</td>\n",
              "      <td>ap_lo</td>\n",
              "      <td>int</td>\n",
              "    </tr>\n",
              "    <tr>\n",
              "      <th>6</th>\n",
              "      <td>Cholesterol</td>\n",
              "      <td>Examination Feature</td>\n",
              "      <td>cholesterol</td>\n",
              "      <td>1: normal, 2: above normal, 3: well above normal</td>\n",
              "    </tr>\n",
              "    <tr>\n",
              "      <th>7</th>\n",
              "      <td>Glucose</td>\n",
              "      <td>Examination Feature</td>\n",
              "      <td>gluc</td>\n",
              "      <td>1: normal, 2: above normal, 3: well above normal</td>\n",
              "    </tr>\n",
              "    <tr>\n",
              "      <th>8</th>\n",
              "      <td>Smoking</td>\n",
              "      <td>Subjective Feature</td>\n",
              "      <td>smoke</td>\n",
              "      <td>binary</td>\n",
              "    </tr>\n",
              "    <tr>\n",
              "      <th>9</th>\n",
              "      <td>Alcohol intake</td>\n",
              "      <td>Subjective Feature</td>\n",
              "      <td>alco</td>\n",
              "      <td>binary</td>\n",
              "    </tr>\n",
              "    <tr>\n",
              "      <th>10</th>\n",
              "      <td>Physical activity</td>\n",
              "      <td>Subjective Feature</td>\n",
              "      <td>active</td>\n",
              "      <td>binary</td>\n",
              "    </tr>\n",
              "    <tr>\n",
              "      <th>11</th>\n",
              "      <td>Presence or absence of cardiovascular disease</td>\n",
              "      <td>Target Variable</td>\n",
              "      <td>cardio</td>\n",
              "      <td>binary</td>\n",
              "    </tr>\n",
              "  </tbody>\n",
              "</table>\n",
              "</div>\n",
              "      <button class=\"colab-df-convert\" onclick=\"convertToInteractive('df-bc6b63da-434c-4b14-8ae3-2670117cde72')\"\n",
              "              title=\"Convert this dataframe to an interactive table.\"\n",
              "              style=\"display:none;\">\n",
              "        \n",
              "  <svg xmlns=\"http://www.w3.org/2000/svg\" height=\"24px\"viewBox=\"0 0 24 24\"\n",
              "       width=\"24px\">\n",
              "    <path d=\"M0 0h24v24H0V0z\" fill=\"none\"/>\n",
              "    <path d=\"M18.56 5.44l.94 2.06.94-2.06 2.06-.94-2.06-.94-.94-2.06-.94 2.06-2.06.94zm-11 1L8.5 8.5l.94-2.06 2.06-.94-2.06-.94L8.5 2.5l-.94 2.06-2.06.94zm10 10l.94 2.06.94-2.06 2.06-.94-2.06-.94-.94-2.06-.94 2.06-2.06.94z\"/><path d=\"M17.41 7.96l-1.37-1.37c-.4-.4-.92-.59-1.43-.59-.52 0-1.04.2-1.43.59L10.3 9.45l-7.72 7.72c-.78.78-.78 2.05 0 2.83L4 21.41c.39.39.9.59 1.41.59.51 0 1.02-.2 1.41-.59l7.78-7.78 2.81-2.81c.8-.78.8-2.07 0-2.86zM5.41 20L4 18.59l7.72-7.72 1.47 1.35L5.41 20z\"/>\n",
              "  </svg>\n",
              "      </button>\n",
              "      \n",
              "  <style>\n",
              "    .colab-df-container {\n",
              "      display:flex;\n",
              "      flex-wrap:wrap;\n",
              "      gap: 12px;\n",
              "    }\n",
              "\n",
              "    .colab-df-convert {\n",
              "      background-color: #E8F0FE;\n",
              "      border: none;\n",
              "      border-radius: 50%;\n",
              "      cursor: pointer;\n",
              "      display: none;\n",
              "      fill: #1967D2;\n",
              "      height: 32px;\n",
              "      padding: 0 0 0 0;\n",
              "      width: 32px;\n",
              "    }\n",
              "\n",
              "    .colab-df-convert:hover {\n",
              "      background-color: #E2EBFA;\n",
              "      box-shadow: 0px 1px 2px rgba(60, 64, 67, 0.3), 0px 1px 3px 1px rgba(60, 64, 67, 0.15);\n",
              "      fill: #174EA6;\n",
              "    }\n",
              "\n",
              "    [theme=dark] .colab-df-convert {\n",
              "      background-color: #3B4455;\n",
              "      fill: #D2E3FC;\n",
              "    }\n",
              "\n",
              "    [theme=dark] .colab-df-convert:hover {\n",
              "      background-color: #434B5C;\n",
              "      box-shadow: 0px 1px 3px 1px rgba(0, 0, 0, 0.15);\n",
              "      filter: drop-shadow(0px 1px 2px rgba(0, 0, 0, 0.3));\n",
              "      fill: #FFFFFF;\n",
              "    }\n",
              "  </style>\n",
              "\n",
              "      <script>\n",
              "        const buttonEl =\n",
              "          document.querySelector('#df-bc6b63da-434c-4b14-8ae3-2670117cde72 button.colab-df-convert');\n",
              "        buttonEl.style.display =\n",
              "          google.colab.kernel.accessAllowed ? 'block' : 'none';\n",
              "\n",
              "        async function convertToInteractive(key) {\n",
              "          const element = document.querySelector('#df-bc6b63da-434c-4b14-8ae3-2670117cde72');\n",
              "          const dataTable =\n",
              "            await google.colab.kernel.invokeFunction('convertToInteractive',\n",
              "                                                     [key], {});\n",
              "          if (!dataTable) return;\n",
              "\n",
              "          const docLinkHtml = 'Like what you see? Visit the ' +\n",
              "            '<a target=\"_blank\" href=https://colab.research.google.com/notebooks/data_table.ipynb>data table notebook</a>'\n",
              "            + ' to learn more about interactive tables.';\n",
              "          element.innerHTML = '';\n",
              "          dataTable['output_type'] = 'display_data';\n",
              "          await google.colab.output.renderOutput(dataTable, element);\n",
              "          const docLink = document.createElement('div');\n",
              "          docLink.innerHTML = docLinkHtml;\n",
              "          element.appendChild(docLink);\n",
              "        }\n",
              "      </script>\n",
              "    </div>\n",
              "  </div>\n",
              "  "
            ]
          },
          "metadata": {},
          "execution_count": 24
        }
      ]
    },
    {
      "cell_type": "markdown",
      "source": [
        ""
      ],
      "metadata": {
        "id": "QnlCpaFennVH"
      }
    },
    {
      "cell_type": "code",
      "source": [
        "cardio_zero = (cat_melt2['cardio'] == 0)\n",
        "cardio_one = (cat_melt2['cardio'] != 0)\n",
        "car_one = cat_melt2[cardio_one]\n",
        "car_zero = cat_melt2[cardio_zero]\n",
        "\n",
        "\n",
        "combine = pd.concat([car_zero, car_one]).value_counts()\n",
        "combine = pd.DataFrame(combine)\n",
        "combine = combine.reset_index()\n",
        "combine = combine.rename(columns={0:'total'})\n",
        "combine = combine.sort_values('variable')\n",
        "combine"
      ],
      "metadata": {
        "id": "oAA8e9PAiEg5"
      },
      "execution_count": null,
      "outputs": []
    },
    {
      "cell_type": "code",
      "source": [
        "from google.colab import files\n",
        "\n",
        "sns.catplot(x='variable',y='total', data=combine, kind='bar', hue='value', col=\"cardio\")\n",
        "fig = plt.figure(figsize=(20, 5))\n",
        "plt.savefig('catplot_medical.png')\n",
        "files.download('catplot_medical.png')\n",
        "fig"
      ],
      "metadata": {
        "colab": {
          "base_uri": "https://localhost:8080/",
          "height": 404
        },
        "id": "1pI2lHwya30M",
        "outputId": "c788fae5-fffc-45fe-baef-14c2d7f6df43"
      },
      "execution_count": 13,
      "outputs": [
        {
          "output_type": "display_data",
          "data": {
            "text/plain": [
              "<IPython.core.display.Javascript object>"
            ],
            "application/javascript": [
              "\n",
              "    async function download(id, filename, size) {\n",
              "      if (!google.colab.kernel.accessAllowed) {\n",
              "        return;\n",
              "      }\n",
              "      const div = document.createElement('div');\n",
              "      const label = document.createElement('label');\n",
              "      label.textContent = `Downloading \"${filename}\": `;\n",
              "      div.appendChild(label);\n",
              "      const progress = document.createElement('progress');\n",
              "      progress.max = size;\n",
              "      div.appendChild(progress);\n",
              "      document.body.appendChild(div);\n",
              "\n",
              "      const buffers = [];\n",
              "      let downloaded = 0;\n",
              "\n",
              "      const channel = await google.colab.kernel.comms.open(id);\n",
              "      // Send a message to notify the kernel that we're ready.\n",
              "      channel.send({})\n",
              "\n",
              "      for await (const message of channel.messages) {\n",
              "        // Send a message to notify the kernel that we're ready.\n",
              "        channel.send({})\n",
              "        if (message.buffers) {\n",
              "          for (const buffer of message.buffers) {\n",
              "            buffers.push(buffer);\n",
              "            downloaded += buffer.byteLength;\n",
              "            progress.value = downloaded;\n",
              "          }\n",
              "        }\n",
              "      }\n",
              "      const blob = new Blob(buffers, {type: 'application/binary'});\n",
              "      const a = document.createElement('a');\n",
              "      a.href = window.URL.createObjectURL(blob);\n",
              "      a.download = filename;\n",
              "      div.appendChild(a);\n",
              "      a.click();\n",
              "      div.remove();\n",
              "    }\n",
              "  "
            ]
          },
          "metadata": {}
        },
        {
          "output_type": "display_data",
          "data": {
            "text/plain": [
              "<IPython.core.display.Javascript object>"
            ],
            "application/javascript": [
              "download(\"download_becbaa86-5506-4ac0-a95a-ef70ca540faa\", \"catplot_medical.png\", 3029)"
            ]
          },
          "metadata": {}
        },
        {
          "output_type": "execute_result",
          "data": {
            "text/plain": [
              "<Figure size 1440x360 with 0 Axes>"
            ]
          },
          "metadata": {},
          "execution_count": 13
        },
        {
          "output_type": "display_data",
          "data": {
            "text/plain": [
              "<Figure size 762.375x360 with 2 Axes>"
            ],
            "image/png": "[encoded data removed]"
          },
          "metadata": {
            "needs_background": "light"
          }
        },
        {
          "output_type": "display_data",
          "data": {
            "text/plain": [
              "<Figure size 1440x360 with 0 Axes>"
            ]
          },
          "metadata": {}
        }
      ]
    },
    {
      "cell_type": "markdown",
      "source": [
        "# Draw Heat Map\n",
        "def draw_heat_map():\n",
        "    # Clean the data\n",
        "    df_heat = None\n",
        "\n",
        "    # Calculate the correlation matrix\n",
        "    corr = None\n",
        "\n",
        "    # Generate a mask for the upper triangle\n",
        "    mask = None\n",
        "\n",
        "    # Set up the matplotlib figure\n",
        "    fig, ax = None\n",
        "\n",
        "    # Draw the heatmap with 'sns.heatmap()'\n",
        "\n",
        "    # Do not modify the next two lines\n",
        "    fig.savefig('heatmap.png')\n",
        "    return fig\n"
      ],
      "metadata": {
        "id": "_cf97neYoBZ-"
      }
    },
    {
      "cell_type": "code",
      "source": [
        "df_heat = df\n",
        "df_heat = df[(df['ap_lo'] <= df['ap_hi'])]\n",
        "df_heat = df[(df['height'] >= df['height'].quantile(0.025))]\n",
        "df_heat = df[(df['height'] <= df['height'].quantile(0.975))]\n",
        "df_heat = df[(df['weight'] >= df['weight'].quantile(0.025))]\n",
        "df_heat = df[(df['weight'] <= df['weight'].quantile(0.975))]\n",
        "\n",
        "df_heat"
      ],
      "metadata": {
        "id": "085tYGHmoBAB"
      },
      "execution_count": null,
      "outputs": []
    },
    {
      "cell_type": "code",
      "source": [
        "# Calculate the correlation matrix\n",
        "corr = df_heat.corr()\n",
        "\n",
        "# Generate a mask for the upper triangle\n",
        "mask = np.triu(np.ones_like(df_heat.corr()))\n",
        "corr"
      ],
      "metadata": {
        "id": "CZXs8x-OwOFQ"
      },
      "execution_count": null,
      "outputs": []
    },
    {
      "cell_type": "code",
      "source": [
        "\n",
        "# # Set up the matplotlib figure\n",
        "fig, ax = plt.subplots(figsize=(16,9))\n",
        "# ax.plot(df_heat, df_heat)\n",
        "\n",
        "\n",
        "# # Draw the heatmap with 'sns.heatmap()'\n",
        "ax = sns.heatmap(\n",
        "    corr, mask=mask,  \n",
        "    square=True , annot=True, fmt=\".1f\" ,\n",
        "    linewidths=.5,\n",
        "     vmin=-.1, vmax=.3, cmap='gist_heat', center=0.08)#, 'inferno_r', 'jet', 'jet_r', 'mag...\n"
      ],
      "metadata": {
        "id": "PIWLCbrsxqbF"
      },
      "execution_count": null,
      "outputs": []
    }
  ]
}